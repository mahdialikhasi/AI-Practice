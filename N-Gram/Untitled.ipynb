{
 "cells": [
  {
   "cell_type": "code",
   "execution_count": 17,
   "metadata": {},
   "outputs": [],
   "source": [
    "import random\n",
    "import nltk"
   ]
  },
  {
   "cell_type": "code",
   "execution_count": 12,
   "metadata": {},
   "outputs": [],
   "source": [
    "text = \"\"\"Global warming is long-term rise in the average temperature of the Earth's climate system, an aspect of current climate change shown by temperature measurements and by multiple effects of the warming. The term commonly refers to the mainly human-caused increase in global surface temperatures and its projected continuation. In this context, the terms global warming and climate change are often used interchangeably, but climate change includes both global warming and its effects, such as changes in precipitation and impacts that differ by region. There were prehistoric periods of global warming, but observed changes since the mid-20th century have been much greater than those seen in previous records covering decades to thousands of years. In 2013, the Intergovernmental Panel on Climate Change (IPCC) Fifth Assessment Report concluded, \"It is extremely likely that human influence has been the dominant cause of the observed warming since the mid-20th century.\" The largest human influence has been the emission of greenhouse gases such as carbon dioxide, methane, and nitrous oxide. Climate model projections summarized in the report indicated that during the 21st century the global surface temperature is likely to rise a further 0.3 to 1.7 °C (0.5 to 3.1 °F) in a moderate scenario, or as much as 2.6 to 4.8 °C (4.7 to 8.6 °F) in an extreme scenario, depending on the rate of future greenhouse gas emissions and on climate feedback effects. These findings have been recognized by the national science academies of the major industrialized nations and are not disputed by any scientific body of national or international standing. The effects of global warming include rising sea levels, regional changes in precipitation, more frequent extreme weather events such as heat waves, and expansion of deserts. Surface temperature increases are greatest in the Arctic, which has contributed to the retreat of glaciers, permafrost, and sea ice. Overall, higher temperatures bring more rain and snowfall, but for some regions droughts and wildfires increase instead. Climate change threatens to diminish crop yields, harming food security, and rising sea levels may flood coastal infrastructure and force the abandonment of many coastal cities. Environmental impacts include the extinction or relocation of many species as their ecosystems change, most immediately the environments of coral reefs, mountains, and the Arctic. Because the climate system has a large \"inertia\" and greenhouse gases persist in the atmosphere, climatic changes and their effects will intensify for many centuries even if further greenhouse gas emissions stop. Globally, a majority of people consider global warming a serious or very serious issue. Possible societal responses to global warming include mitigation by emissions reduction, adaptation to its effects, and possible future climate engineering. Every country in the world is a party to the United Nations Framework Convention on Climate Change (UNFCCC), whose ultimate objective is to prevent dangerous anthropogenic climate change. Although the parties to the UNFCCC have agreed that deep cuts in emissions are required and that global warming should be limited to well below 2 °C (3.6 °F) (with efforts made to limit warming to 1.5 °C (2.7 °F)), the Earth's average surface temperature has already increased by about half this threshold. Some scientists call into question the feasibility of the 2 °C (3.6 °F) temperature target, and some question the feasibility, in higher emissions scenarios, of climate adaptation. \"\"\""
   ]
  },
  {
   "cell_type": "code",
   "execution_count": 13,
   "metadata": {},
   "outputs": [],
   "source": [
    "#character N-Gram\n",
    "n = 4\n",
    "NGram = {}\n",
    "\n",
    "for i in range(len(text) - n):\n",
    "    gram = text[i:i+n]\n",
    "    if gram not in NGram:\n",
    "        NGram[gram] = []\n",
    "    NGram[gram].append(text[i+n])"
   ]
  },
  {
   "cell_type": "code",
   "execution_count": 14,
   "metadata": {},
   "outputs": [],
   "source": [
    "#Testing ngram\n",
    "currentGram = \"Glob\"\n",
    "result = currentGram\n",
    "for i in range(100):\n",
    "    if currentGram not in NGram:\n",
    "        break\n",
    "    else:\n",
    "        possibilities = NGram[currentGram]\n",
    "        nextItem = possibilities[random.randrange(len(possibilities))]\n",
    "        result += nextItem\n",
    "        currentGram = result[len(result) - n:len(result)]"
   ]
  },
  {
   "cell_type": "code",
   "execution_count": 15,
   "metadata": {},
   "outputs": [
    {
     "data": {
      "text/plain": [
       "'Global warming and are rain an extreme scenario, dependings have agreed that global warming to 1.5 °C (4'"
      ]
     },
     "execution_count": 15,
     "metadata": {},
     "output_type": "execute_result"
    }
   ],
   "source": [
    "result"
   ]
  },
  {
   "cell_type": "code",
   "execution_count": 18,
   "metadata": {},
   "outputs": [],
   "source": [
    "# word N-Gram\n",
    "n = 3\n",
    "NgramWord = {}\n",
    "words = nltk.word_tokenize(text)\n",
    "\n",
    "for i in range(len(words) - n):\n",
    "    gram = ' '.join(words[i:i+n])\n",
    "    if gram not in NgramWord:\n",
    "        NgramWord[gram] = []\n",
    "    NgramWord[gram].append(words[i+n])"
   ]
  },
  {
   "cell_type": "code",
   "execution_count": 31,
   "metadata": {},
   "outputs": [],
   "source": [
    "#Testing ngram\n",
    "currentGram = \"Global warming is\"\n",
    "result = currentGram\n",
    "for i in range(100):\n",
    "    if currentGram not in NgramWord:\n",
    "        break\n",
    "    else:\n",
    "        possibilities = NgramWord[currentGram]\n",
    "        result += ' ' + possibilities[random.randrange(len(possibilities))]\n",
    "        word = nltk.word_tokenize(result)\n",
    "        currentGram = ' '.join(word[len(word) - n: len(word)])"
   ]
  },
  {
   "cell_type": "code",
   "execution_count": 32,
   "metadata": {},
   "outputs": [
    {
     "data": {
      "text/plain": [
       "\"Global warming is long-term rise in the average temperature of the Earth 's climate system , an aspect of current climate change shown by temperature measurements and by multiple effects of the warming . The term commonly refers to the mainly human-caused increase in global surface temperatures and its projected continuation . In this context , the terms global warming and its effects , such as changes in precipitation and impacts that differ by region . There were prehistoric periods of global warming include rising sea levels may flood coastal infrastructure and force the abandonment of many coastal cities . Environmental impacts include\""
      ]
     },
     "execution_count": 32,
     "metadata": {},
     "output_type": "execute_result"
    }
   ],
   "source": [
    "result"
   ]
  },
  {
   "cell_type": "code",
   "execution_count": null,
   "metadata": {},
   "outputs": [],
   "source": []
  }
 ],
 "metadata": {
  "kernelspec": {
   "display_name": "Python 3",
   "language": "python",
   "name": "python3"
  },
  "language_info": {
   "codemirror_mode": {
    "name": "ipython",
    "version": 3
   },
   "file_extension": ".py",
   "mimetype": "text/x-python",
   "name": "python",
   "nbconvert_exporter": "python",
   "pygments_lexer": "ipython3",
   "version": "3.6.8"
  }
 },
 "nbformat": 4,
 "nbformat_minor": 2
}
