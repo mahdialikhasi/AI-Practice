{
 "cells": [
  {
   "cell_type": "code",
   "execution_count": 36,
   "metadata": {},
   "outputs": [],
   "source": [
    "import nltk\n",
    "import re\n",
    "from nltk.corpus import stopwords\n",
    "import heapq"
   ]
  },
  {
   "cell_type": "code",
   "execution_count": 37,
   "metadata": {},
   "outputs": [],
   "source": [
    "paragraph = \"\"\"Thank you all so very much. Thank you to the Academy. Thank you to all of you in this room. I have to congratulate the other incredible nominees this year. The Revenant was the product of the tireless efforts of an unbelievable cast and crew. First off, to my brother in this endeavor, Mr. Tom Hardy. Tom, your talent on screen can only be surpassed by your friendship off screen … thank you for creating a transcendent cinematic experience. Thank you to everybody at Fox and New Regency … my entire team. I have to thank everyone from the very onset of my career … To my parents; none of this would be possible without you. And to my friends, I love you dearly; you know who you are.\n",
    "\n",
    "And lastly, I just want to say this: Making The Revenant was about man's relationship to the natural world. A world that we collectively felt in 2015 as the hottest year in recorded history. Our production needed to move to the southern tip of this planet just to be able to find snow. Climate change is real, it is happening right now. It is the most urgent threat facing our entire species, and we need to work collectively together and stop procrastinating. We need to support leaders around the world who do not speak for the big polluters, but who speak for all of humanity, for the indigenous people of the world, for the billions and billions of underprivileged people out there who would be most affected by this. For our children’s children, and for those people out there whose voices have been drowned out by the politics of greed. I thank you all for this amazing award tonight. Let us not take this planet for granted. I do not take tonight for granted. Thank you so very much.\n",
    "\"\"\""
   ]
  },
  {
   "cell_type": "code",
   "execution_count": 38,
   "metadata": {},
   "outputs": [],
   "source": [
    "dataset = nltk.sent_tokenize(paragraph)"
   ]
  },
  {
   "cell_type": "code",
   "execution_count": 39,
   "metadata": {},
   "outputs": [],
   "source": [
    "for i in range(len(dataset)):\n",
    "    dataset[i] = dataset[i].lower()\n",
    "    dataset[i] = re.sub(r'\\W', ' ', dataset[i])\n",
    "    dataset[i] = re.sub(r'\\s+', ' ', dataset[i])\n",
    "    # words = nltk.word_tokenize(dataset[i])"
   ]
  },
  {
   "cell_type": "code",
   "execution_count": 44,
   "metadata": {},
   "outputs": [
    {
     "data": {
      "text/plain": [
       "['thank you all so very much ',\n",
       " 'thank you to the academy ',\n",
       " 'thank you to all of you in this room ',\n",
       " 'i have to congratulate the other incredible nominees this year ',\n",
       " 'the revenant was the product of the tireless efforts of an unbelievable cast and crew ',\n",
       " 'first off to my brother in this endeavor mr tom hardy ',\n",
       " 'tom your talent on screen can only be surpassed by your friendship off screen thank you for creating a transcendent cinematic experience ',\n",
       " 'thank you to everybody at fox and new regency my entire team ',\n",
       " 'i have to thank everyone from the very onset of my career to my parents none of this would be possible without you ',\n",
       " 'and to my friends i love you dearly you know who you are ',\n",
       " 'and lastly i just want to say this making the revenant was about man s relationship to the natural world ',\n",
       " 'a world that we collectively felt in 2015 as the hottest year in recorded history ',\n",
       " 'our production needed to move to the southern tip of this planet just to be able to find snow ',\n",
       " 'climate change is real it is happening right now ',\n",
       " 'it is the most urgent threat facing our entire species and we need to work collectively together and stop procrastinating ',\n",
       " 'we need to support leaders around the world who do not speak for the big polluters but who speak for all of humanity for the indigenous people of the world for the billions and billions of underprivileged people out there who would be most affected by this ',\n",
       " 'for our children s children and for those people out there whose voices have been drowned out by the politics of greed ',\n",
       " 'i thank you all for this amazing award tonight ',\n",
       " 'let us not take this planet for granted ',\n",
       " 'i do not take tonight for granted ',\n",
       " 'thank you so very much ']"
      ]
     },
     "execution_count": 44,
     "metadata": {},
     "output_type": "execute_result"
    }
   ],
   "source": [
    "dataset"
   ]
  },
  {
   "cell_type": "code",
   "execution_count": 40,
   "metadata": {},
   "outputs": [],
   "source": [
    "# create histogram\n",
    "wordCount = {}"
   ]
  },
  {
   "cell_type": "code",
   "execution_count": 41,
   "metadata": {},
   "outputs": [],
   "source": [
    "for data in dataset:\n",
    "    words = nltk.word_tokenize(data)\n",
    "    for word in words:\n",
    "        if word not in stopwords.words('english'):\n",
    "            if word not in wordCount:\n",
    "                wordCount[word] = 1\n",
    "            else:\n",
    "                wordCount[word] += 1"
   ]
  },
  {
   "cell_type": "code",
   "execution_count": 42,
   "metadata": {},
   "outputs": [],
   "source": [
    "# select top n\n",
    "n = 100\n",
    "topNfrequent = heapq.nlargest(n, wordCount, key=wordCount.get)\n"
   ]
  },
  {
   "cell_type": "code",
   "execution_count": 43,
   "metadata": {},
   "outputs": [
    {
     "data": {
      "text/plain": [
       "['thank',\n",
       " 'world',\n",
       " 'people',\n",
       " 'much',\n",
       " 'year',\n",
       " 'revenant',\n",
       " 'tom',\n",
       " 'screen',\n",
       " 'entire',\n",
       " 'would',\n",
       " 'collectively',\n",
       " 'planet',\n",
       " 'need',\n",
       " 'speak',\n",
       " 'billions',\n",
       " 'children',\n",
       " 'tonight',\n",
       " 'take',\n",
       " 'granted',\n",
       " 'academy',\n",
       " 'room',\n",
       " 'congratulate',\n",
       " 'incredible',\n",
       " 'nominees',\n",
       " 'product',\n",
       " 'tireless',\n",
       " 'efforts',\n",
       " 'unbelievable',\n",
       " 'cast',\n",
       " 'crew',\n",
       " 'first',\n",
       " 'brother',\n",
       " 'endeavor',\n",
       " 'mr',\n",
       " 'hardy',\n",
       " 'talent',\n",
       " 'surpassed',\n",
       " 'friendship',\n",
       " 'creating',\n",
       " 'transcendent',\n",
       " 'cinematic',\n",
       " 'experience',\n",
       " 'everybody',\n",
       " 'fox',\n",
       " 'new',\n",
       " 'regency',\n",
       " 'team',\n",
       " 'everyone',\n",
       " 'onset',\n",
       " 'career',\n",
       " 'parents',\n",
       " 'none',\n",
       " 'possible',\n",
       " 'without',\n",
       " 'friends',\n",
       " 'love',\n",
       " 'dearly',\n",
       " 'know',\n",
       " 'lastly',\n",
       " 'want',\n",
       " 'say',\n",
       " 'making',\n",
       " 'man',\n",
       " 'relationship',\n",
       " 'natural',\n",
       " 'felt',\n",
       " '2015',\n",
       " 'hottest',\n",
       " 'recorded',\n",
       " 'history',\n",
       " 'production',\n",
       " 'needed',\n",
       " 'move',\n",
       " 'southern',\n",
       " 'tip',\n",
       " 'able',\n",
       " 'find',\n",
       " 'snow',\n",
       " 'climate',\n",
       " 'change',\n",
       " 'real',\n",
       " 'happening',\n",
       " 'right',\n",
       " 'urgent',\n",
       " 'threat',\n",
       " 'facing',\n",
       " 'species',\n",
       " 'work',\n",
       " 'together',\n",
       " 'stop',\n",
       " 'procrastinating',\n",
       " 'support',\n",
       " 'leaders',\n",
       " 'around',\n",
       " 'big',\n",
       " 'polluters',\n",
       " 'humanity',\n",
       " 'indigenous',\n",
       " 'underprivileged',\n",
       " 'affected']"
      ]
     },
     "execution_count": 43,
     "metadata": {},
     "output_type": "execute_result"
    }
   ],
   "source": [
    "# topNfrequent"
   ]
  },
  {
   "cell_type": "code",
   "execution_count": null,
   "metadata": {},
   "outputs": [],
   "source": []
  }
 ],
 "metadata": {
  "kernelspec": {
   "display_name": "Python 3",
   "language": "python",
   "name": "python3"
  },
  "language_info": {
   "codemirror_mode": {
    "name": "ipython",
    "version": 3
   },
   "file_extension": ".py",
   "mimetype": "text/x-python",
   "name": "python",
   "nbconvert_exporter": "python",
   "pygments_lexer": "ipython3",
   "version": "3.6.8"
  }
 },
 "nbformat": 4,
 "nbformat_minor": 2
}
