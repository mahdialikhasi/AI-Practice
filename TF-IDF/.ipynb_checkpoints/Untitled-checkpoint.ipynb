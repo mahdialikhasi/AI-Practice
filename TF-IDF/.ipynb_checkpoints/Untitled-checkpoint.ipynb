{
 "cells": [
  {
   "cell_type": "code",
   "execution_count": 58,
   "metadata": {},
   "outputs": [],
   "source": [
    "import nltk\n",
    "import re\n",
    "from nltk.corpus import stopwords\n",
    "import heapq\n",
    "import math\n",
    "import numpy as np"
   ]
  },
  {
   "cell_type": "code",
   "execution_count": 59,
   "metadata": {},
   "outputs": [],
   "source": [
    "paragraph = \"\"\"\n",
    "Thank you all so very much. Thank you to the Academy. Thank you to all of you in this room. I have to congratulate the other incredible nominees this year. The Revenant was the product of the tireless efforts of an unbelievable cast and crew. First off, to my brother in this endeavor, Mr. Tom Hardy. Tom, your talent on screen can only be surpassed by your friendship off screen … thank you for creating a transcendent cinematic experience. Thank you to everybody at Fox and New Regency … my entire team. I have to thank everyone from the very onset of my career … To my parents; none of this would be possible without you. And to my friends, I love you dearly; you know who you are.\n",
    "\n",
    "And lastly, I just want to say this: Making The Revenant was about man's relationship to the natural world. A world that we collectively felt in 2015 as the hottest year in recorded history. Our production needed to move to the southern tip of this planet just to be able to find snow. Climate change is real, it is happening right now. It is the most urgent threat facing our entire species, and we need to work collectively together and stop procrastinating. We need to support leaders around the world who do not speak for the big polluters, but who speak for all of humanity, for the indigenous people of the world, for the billions and billions of underprivileged people out there who would be most affected by this. For our children’s children, and for those people out there whose voices have been drowned out by the politics of greed. I thank you all for this amazing award tonight. Let us not take this planet for granted. I do not take tonight for granted. Thank you so very much.\n",
    "\"\"\""
   ]
  },
  {
   "cell_type": "code",
   "execution_count": 60,
   "metadata": {},
   "outputs": [],
   "source": [
    "dataset = nltk.sent_tokenize(paragraph)"
   ]
  },
  {
   "cell_type": "code",
   "execution_count": 61,
   "metadata": {},
   "outputs": [],
   "source": [
    "wordCount = {}\n",
    "IDF = {}\n",
    "for i in range(len(dataset)):\n",
    "    dataset[i] = dataset[i].lower()\n",
    "    dataset[i] = re.sub(r'\\d', ' ', dataset[i])\n",
    "    dataset[i] = re.sub(r'\\W', ' ', dataset[i])\n",
    "    dataset[i] = re.sub(r'/s+', ' ', dataset[i])"
   ]
  },
  {
   "cell_type": "code",
   "execution_count": 62,
   "metadata": {},
   "outputs": [
    {
     "data": {
      "text/plain": [
       "[' thank you all so very much ',\n",
       " 'thank you to the academy ',\n",
       " 'thank you to all of you in this room ',\n",
       " 'i have to congratulate the other incredible nominees this year ',\n",
       " 'the revenant was the product of the tireless efforts of an unbelievable cast and crew ',\n",
       " 'first off  to my brother in this endeavor  mr  tom hardy ',\n",
       " 'tom  your talent on screen can only be surpassed by your friendship off screen   thank you for creating a transcendent cinematic experience ',\n",
       " 'thank you to everybody at fox and new regency   my entire team ',\n",
       " 'i have to thank everyone from the very onset of my career   to my parents  none of this would be possible without you ',\n",
       " 'and to my friends  i love you dearly  you know who you are ',\n",
       " 'and lastly  i just want to say this  making the revenant was about man s relationship to the natural world ',\n",
       " 'a world that we collectively felt in      as the hottest year in recorded history ',\n",
       " 'our production needed to move to the southern tip of this planet just to be able to find snow ',\n",
       " 'climate change is real  it is happening right now ',\n",
       " 'it is the most urgent threat facing our entire species  and we need to work collectively together and stop procrastinating ',\n",
       " 'we need to support leaders around the world who do not speak for the big polluters  but who speak for all of humanity  for the indigenous people of the world  for the billions and billions of underprivileged people out there who would be most affected by this ',\n",
       " 'for our children s children  and for those people out there whose voices have been drowned out by the politics of greed ',\n",
       " 'i thank you all for this amazing award tonight ',\n",
       " 'let us not take this planet for granted ',\n",
       " 'i do not take tonight for granted ',\n",
       " 'thank you so very much ']"
      ]
     },
     "execution_count": 62,
     "metadata": {},
     "output_type": "execute_result"
    }
   ],
   "source": [
    "dataset"
   ]
  },
  {
   "cell_type": "code",
   "execution_count": 63,
   "metadata": {},
   "outputs": [],
   "source": [
    "for i in dataset:\n",
    "    words = nltk.word_tokenize(i)\n",
    "    for word in words:\n",
    "        if word not in stopwords.words('english'):\n",
    "            if word not in wordCount:\n",
    "                wordCount[word] = 1\n",
    "            else:\n",
    "                wordCount[word] += 1"
   ]
  },
  {
   "cell_type": "code",
   "execution_count": 64,
   "metadata": {},
   "outputs": [],
   "source": [
    "# for i in wordCount:\n",
    "#     count = 0\n",
    "#     for j in dataset:\n",
    "#         words = nltk.word_tokenize(j)\n",
    "#         if i in words:\n",
    "#             count += 1\n",
    "#     if count == len(dataset):\n",
    "#         del(wordCount[i])"
   ]
  },
  {
   "cell_type": "code",
   "execution_count": 65,
   "metadata": {},
   "outputs": [],
   "source": [
    "n = 80\n",
    "Topwords = heapq.nlargest(n, wordCount, key=wordCount.get)"
   ]
  },
  {
   "cell_type": "code",
   "execution_count": 66,
   "metadata": {},
   "outputs": [],
   "source": [
    "for i in range(len(Topwords)):\n",
    "    count = 0\n",
    "    for j in dataset:\n",
    "        words = nltk.word_tokenize(j)\n",
    "        if Topwords[i] in words:\n",
    "            count += 1\n",
    "    IDF[Topwords[i]] = math.log((len(dataset) / count) + 1)"
   ]
  },
  {
   "cell_type": "code",
   "execution_count": 67,
   "metadata": {},
   "outputs": [],
   "source": [
    "DFMatrix = []\n",
    "for i in dataset:\n",
    "    words = nltk.word_tokenize(i)\n",
    "    DFlist = []\n",
    "    for j in Topwords:\n",
    "        count = 0\n",
    "        for k in words:\n",
    "            if k == j:\n",
    "                count += 1\n",
    "        DFlist.append(count / len(words))\n",
    "    DFMatrix.append(DFlist)"
   ]
  },
  {
   "cell_type": "code",
   "execution_count": null,
   "metadata": {},
   "outputs": [],
   "source": []
  },
  {
   "cell_type": "code",
   "execution_count": 68,
   "metadata": {},
   "outputs": [],
   "source": [
    "TF_IDF = DFMatrix\n",
    "for i in range(len(TF_IDF)):\n",
    "    for j in range(len(TF_IDF[i])):\n",
    "        TF_IDF[i][j] *= IDF[Topwords[j]]"
   ]
  },
  {
   "cell_type": "code",
   "execution_count": 72,
   "metadata": {},
   "outputs": [
    {
     "data": {
      "text/plain": [
       "(21, 80)"
      ]
     },
     "execution_count": 72,
     "metadata": {},
     "output_type": "execute_result"
    }
   ],
   "source": [
    "arr = np.asarray(TF_IDF)\n",
    "# arr = np.transpose(arr)\n",
    "arr.shape\n"
   ]
  },
  {
   "cell_type": "code",
   "execution_count": null,
   "metadata": {},
   "outputs": [],
   "source": []
  }
 ],
 "metadata": {
  "kernelspec": {
   "display_name": "Python 3",
   "language": "python",
   "name": "python3"
  },
  "language_info": {
   "codemirror_mode": {
    "name": "ipython",
    "version": 3
   },
   "file_extension": ".py",
   "mimetype": "text/x-python",
   "name": "python",
   "nbconvert_exporter": "python",
   "pygments_lexer": "ipython3",
   "version": "3.6.8"
  }
 },
 "nbformat": 4,
 "nbformat_minor": 2
}
