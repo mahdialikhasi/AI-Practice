{
 "cells": [
  {
   "cell_type": "code",
   "execution_count": 15,
   "metadata": {},
   "outputs": [],
   "source": [
    "from keras.models import Sequential\n",
    "from keras.layers import Dense\n",
    "from keras.layers import Convolution2D\n",
    "from keras.layers import MaxPool2D\n",
    "from keras.layers import Flatten\n",
    "from keras.preprocessing.image import ImageDataGenerator"
   ]
  },
  {
   "cell_type": "code",
   "execution_count": 16,
   "metadata": {},
   "outputs": [],
   "source": [
    "# build CNN\n",
    "\n",
    "# Initialising CNN\n",
    "classifier = Sequential()\n",
    "# step 1 - Convolution\n",
    "classifier.add(Convolution2D(input_shape=(64,64,3), data_format=\"channels_last\" , filters=32, kernel_size=(3,3), activation=\"relu\", kernel_initializer=\"uniform\"))\n",
    "# step 2 - Max pooling\n",
    "classifier.add(MaxPool2D(pool_size=(2,2), strides = 2))\n",
    "\n",
    "classifier.add(Convolution2D(data_format=\"channels_first\", filters=16, kernel_size = (3, 3), activation=\"relu\", kernel_initializer=\"uniform\"))\n",
    "classifier.add(MaxPool2D(pool_size=(2,2), strides = 2))\n",
    "\n",
    "# step 3 - flatten\n",
    "classifier.add(Flatten())\n",
    "# step 4 - using ANN to categorize\n",
    "classifier.add(Dense(64, activation=\"relu\", kernel_initializer=\"uniform\"))\n",
    "classifier.add(Dense(16, activation=\"relu\", kernel_initializer=\"uniform\"))\n",
    "classifier.add(Dense(1, activation=\"sigmoid\", kernel_initializer=\"uniform\"))\n"
   ]
  },
  {
   "cell_type": "code",
   "execution_count": 17,
   "metadata": {},
   "outputs": [],
   "source": [
    "# compile and fit\n",
    "classifier.compile(optimizer=\"adam\", loss=\"binary_crossentropy\", metrics=[\"accuracy\"])"
   ]
  },
  {
   "cell_type": "code",
   "execution_count": 18,
   "metadata": {},
   "outputs": [
    {
     "name": "stdout",
     "output_type": "stream",
     "text": [
      "Found 8000 images belonging to 2 classes.\n",
      "Found 2000 images belonging to 2 classes.\n",
      "Epoch 1/25\n",
      "8000/8000 [==============================] - 941s 118ms/step - loss: 0.5322 - acc: 0.7237 - val_loss: 0.5621 - val_acc: 0.7200\n",
      "Epoch 2/25\n",
      "8000/8000 [==============================] - 936s 117ms/step - loss: 0.4089 - acc: 0.8105 - val_loss: 0.7132 - val_acc: 0.7255\n",
      "Epoch 3/25\n",
      "8000/8000 [==============================] - 943s 118ms/step - loss: 0.3127 - acc: 0.8622 - val_loss: 0.7022 - val_acc: 0.7418\n",
      "Epoch 4/25\n",
      "8000/8000 [==============================] - 938s 117ms/step - loss: 0.2311 - acc: 0.9036 - val_loss: 0.9006 - val_acc: 0.7470\n",
      "Epoch 5/25\n",
      "8000/8000 [==============================] - 941s 118ms/step - loss: 0.1789 - acc: 0.9281 - val_loss: 1.1695 - val_acc: 0.7365\n",
      "Epoch 6/25\n",
      "8000/8000 [==============================] - 941s 118ms/step - loss: 0.1463 - acc: 0.9422 - val_loss: 1.0977 - val_acc: 0.7553\n",
      "Epoch 7/25\n",
      "8000/8000 [==============================] - 941s 118ms/step - loss: 0.1237 - acc: 0.9514 - val_loss: 1.3025 - val_acc: 0.7349\n",
      "Epoch 8/25\n",
      "8000/8000 [==============================] - 939s 117ms/step - loss: 0.1068 - acc: 0.9590 - val_loss: 1.3671 - val_acc: 0.7250\n",
      "Epoch 9/25\n",
      "8000/8000 [==============================] - 941s 118ms/step - loss: 0.0958 - acc: 0.9637 - val_loss: 1.3806 - val_acc: 0.7403\n",
      "Epoch 10/25\n",
      "8000/8000 [==============================] - 941s 118ms/step - loss: 0.0846 - acc: 0.9682 - val_loss: 1.5210 - val_acc: 0.7370\n",
      "Epoch 11/25\n",
      "8000/8000 [==============================] - 942s 118ms/step - loss: 0.0778 - acc: 0.9708 - val_loss: 1.4874 - val_acc: 0.7397\n",
      "Epoch 12/25\n",
      "8000/8000 [==============================] - 941s 118ms/step - loss: 0.0718 - acc: 0.9734 - val_loss: 1.6697 - val_acc: 0.7392\n",
      "Epoch 13/25\n",
      "8000/8000 [==============================] - 942s 118ms/step - loss: 0.0678 - acc: 0.9749 - val_loss: 1.5025 - val_acc: 0.7385\n",
      "Epoch 14/25\n",
      "8000/8000 [==============================] - 939s 117ms/step - loss: 0.0615 - acc: 0.9773 - val_loss: 1.6422 - val_acc: 0.7337\n",
      "Epoch 15/25\n",
      "8000/8000 [==============================] - 938s 117ms/step - loss: 0.0588 - acc: 0.9784 - val_loss: 1.7632 - val_acc: 0.7379\n",
      "Epoch 16/25\n",
      "8000/8000 [==============================] - 939s 117ms/step - loss: 0.0569 - acc: 0.9795 - val_loss: 1.6660 - val_acc: 0.7431\n",
      "Epoch 17/25\n",
      "8000/8000 [==============================] - 940s 117ms/step - loss: 0.0530 - acc: 0.9808 - val_loss: 1.7662 - val_acc: 0.7528\n",
      "Epoch 18/25\n",
      "8000/8000 [==============================] - 939s 117ms/step - loss: 0.0499 - acc: 0.9821 - val_loss: 1.7259 - val_acc: 0.7522\n",
      "Epoch 19/25\n",
      "8000/8000 [==============================] - 940s 118ms/step - loss: 0.0475 - acc: 0.9826 - val_loss: 1.9010 - val_acc: 0.7347\n",
      "Epoch 20/25\n",
      "8000/8000 [==============================] - 941s 118ms/step - loss: 0.0466 - acc: 0.9831 - val_loss: 1.7672 - val_acc: 0.7419\n",
      "Epoch 21/25\n",
      "8000/8000 [==============================] - 941s 118ms/step - loss: 0.0434 - acc: 0.9844 - val_loss: 1.7949 - val_acc: 0.7478\n",
      "Epoch 22/25\n",
      "8000/8000 [==============================] - 941s 118ms/step - loss: 0.0429 - acc: 0.9847 - val_loss: 1.8899 - val_acc: 0.7429\n",
      "Epoch 23/25\n",
      "8000/8000 [==============================] - 943s 118ms/step - loss: 0.0419 - acc: 0.9853 - val_loss: 2.0197 - val_acc: 0.7237\n",
      "Epoch 24/25\n",
      "8000/8000 [==============================] - 945s 118ms/step - loss: 0.0393 - acc: 0.9860 - val_loss: 1.9924 - val_acc: 0.7282\n",
      "Epoch 25/25\n",
      "8000/8000 [==============================] - 946s 118ms/step - loss: 0.0395 - acc: 0.9862 - val_loss: 1.9693 - val_acc: 0.7268\n"
     ]
    },
    {
     "data": {
      "text/plain": [
       "<keras.callbacks.History at 0x7f6cb31b38d0>"
      ]
     },
     "execution_count": 18,
     "metadata": {},
     "output_type": "execute_result"
    }
   ],
   "source": [
    "# image preproccessing\n",
    "train_datagen = ImageDataGenerator(\n",
    "        rescale=1./255,\n",
    "        shear_range=0.2,\n",
    "        zoom_range=0.2,\n",
    "        horizontal_flip=True)\n",
    "\n",
    "test_datagen = ImageDataGenerator(rescale=1./255)\n",
    "\n",
    "train_generator = train_datagen.flow_from_directory(\n",
    "        'dataset/training_set',\n",
    "        target_size=(64, 64),\n",
    "        batch_size=32,\n",
    "        class_mode='binary')\n",
    "\n",
    "validation_generator = test_datagen.flow_from_directory(\n",
    "        'dataset/test_set',\n",
    "        target_size=(64, 64),\n",
    "        batch_size=32,\n",
    "        class_mode='binary')\n",
    "\n",
    "classifier.fit_generator(\n",
    "        train_generator,\n",
    "        steps_per_epoch = 8000,\n",
    "        epochs = 25,\n",
    "        validation_data = validation_generator,\n",
    "        validation_steps = 2000)"
   ]
  },
  {
   "cell_type": "code",
   "execution_count": null,
   "metadata": {},
   "outputs": [],
   "source": []
  }
 ],
 "metadata": {
  "kernelspec": {
   "display_name": "Python 3",
   "language": "python",
   "name": "python3"
  },
  "language_info": {
   "codemirror_mode": {
    "name": "ipython",
    "version": 3
   },
   "file_extension": ".py",
   "mimetype": "text/x-python",
   "name": "python",
   "nbconvert_exporter": "python",
   "pygments_lexer": "ipython3",
   "version": "3.6.8"
  }
 },
 "nbformat": 4,
 "nbformat_minor": 2
}
