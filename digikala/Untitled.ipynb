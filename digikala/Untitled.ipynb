{
 "cells": [
  {
   "cell_type": "code",
   "execution_count": 1,
   "metadata": {},
   "outputs": [],
   "source": [
    "from __future__ import unicode_literals\n",
    "import nltk\n",
    "import numpy as np\n",
    "from hazm import *\n",
    "import tensorflow as tf\n",
    "from sklearn.model_selection import train_test_split\n",
    "import tensorflow_datasets as tfds\n",
    "import matplotlib.pyplot as plt\n",
    "import pandas as pd"
   ]
  },
  {
   "cell_type": "code",
   "execution_count": 2,
   "metadata": {},
   "outputs": [],
   "source": [
    "# Import matplotlib and create a helper function to plot graphs:\n",
    "\n",
    "def plot_graphs(history, metric):\n",
    "    plt.plot(history.history[metric])\n",
    "    plt.plot(history.history['val_'+metric], '')\n",
    "    plt.xlabel(\"Epochs\")\n",
    "    plt.ylabel(metric)\n",
    "    plt.legend([metric, 'val_'+metric])\n",
    "    plt.show()"
   ]
  },
  {
   "cell_type": "code",
   "execution_count": 3,
   "metadata": {},
   "outputs": [],
   "source": [
    "#import data\n",
    "\n",
    "dataset = pd.read_csv(\"digikala_comment_verification_challenge/train_comments.csv\", na_values=\" \")\n",
    "dataset = dataset.dropna()\n",
    "X = dataset.iloc[:, 1: 4].values\n",
    "y = dataset.iloc[:, 4].values"
   ]
  },
  {
   "cell_type": "code",
   "execution_count": 4,
   "metadata": {},
   "outputs": [],
   "source": [
    "# preprocess data\n",
    "normalizer = Normalizer()\n",
    "stemmer = Stemmer()\n",
    "vocabulary_set = set()\n",
    "\n",
    "X_new = []\n",
    "for i in range(len(X)):\n",
    "    words = []\n",
    "    for j in range(2):\n",
    "        X[i][j] = normalizer.normalize(X[i][j])\n",
    "        temp = word_tokenize(X[i][j])\n",
    "        for k in range(len(temp)):\n",
    "            token = stemmer.stem(temp[k])\n",
    "            words.append(token)\n",
    "    X_new.append(words)\n",
    "    vocabulary_set.update(words)\n",
    "\n",
    "X = np.array(X_new)\n",
    "y = np.array(y)"
   ]
  },
  {
   "cell_type": "code",
   "execution_count": 5,
   "metadata": {},
   "outputs": [],
   "source": [
    "for i in range(len(X)):\n",
    "    X[i] = ' '.join(X[i])\n",
    "\n",
    "# Splitting the dataset into the Training set and Test set\n",
    "X_train, X_test, y_train, y_test = train_test_split(X, y, test_size = 0.2, random_state = 0)"
   ]
  },
  {
   "cell_type": "code",
   "execution_count": 24,
   "metadata": {},
   "outputs": [],
   "source": [
    "vocab_size = len(vocabulary_set)\n",
    "train_dataset = tf.data.Dataset.from_tensor_slices((X_train, y_train))\n",
    "test_dataset = tf.data.Dataset.from_tensor_slices((X_test, y_test))"
   ]
  },
  {
   "cell_type": "code",
   "execution_count": 25,
   "metadata": {},
   "outputs": [],
   "source": [
    "# Create an encoder\n",
    "\n",
    "encoder = tfds.features.text.TokenTextEncoder(vocabulary_set)\n"
   ]
  },
  {
   "cell_type": "code",
   "execution_count": 26,
   "metadata": {},
   "outputs": [
    {
     "name": "stdout",
     "output_type": "stream",
     "text": [
      "WARNING:tensorflow:AutoGraph could not transform <function encode_map_fn at 0x7f354003db70> and will run it as-is.\n",
      "Please report this to the TensorFlow team. When filing the bug, set the verbosity to 10 (on Linux, `export AUTOGRAPH_VERBOSITY=10`) and attach the full output.\n",
      "Cause: Bad argument number for Name: 3, expecting 4\n",
      "WARNING: AutoGraph could not transform <function encode_map_fn at 0x7f354003db70> and will run it as-is.\n",
      "Please report this to the TensorFlow team. When filing the bug, set the verbosity to 10 (on Linux, `export AUTOGRAPH_VERBOSITY=10`) and attach the full output.\n",
      "Cause: Bad argument number for Name: 3, expecting 4\n"
     ]
    }
   ],
   "source": [
    "def encode(text_tensor, label):\n",
    "    encoded_text = encoder.encode(text_tensor.numpy())\n",
    "    return encoded_text, label\n",
    "\n",
    "def encode_map_fn(text, label):\n",
    "    # py_func doesn't set the shape of the returned tensors.\n",
    "    encoded_text, label = tf.py_function(encode, \n",
    "                                       inp=[text, label], \n",
    "                                       Tout=(tf.int64, tf.int64))\n",
    "\n",
    "    # `tf.data.Datasets` work best if all components have a shape set\n",
    "    #  so set the shapes manually: \n",
    "    encoded_text.set_shape([None])\n",
    "    label.set_shape([])\n",
    "\n",
    "    return encoded_text, label\n",
    "\n",
    "\n",
    "train_dataset = train_dataset.map(encode_map_fn)\n",
    "test_dataset = test_dataset.map(encode_map_fn)"
   ]
  },
  {
   "cell_type": "code",
   "execution_count": 27,
   "metadata": {},
   "outputs": [
    {
     "name": "stdout",
     "output_type": "stream",
     "text": [
      "(<tf.Tensor: shape=(59,), dtype=int64, numpy=\n",
      "array([ 1231, 48747, 29250, 44624, 31950, 88865, 90618, 25900, 17113,\n",
      "       72180, 82612, 44929, 25380, 85809, 63218, 56078, 83028, 14671,\n",
      "       63218, 47131, 92885, 10888, 40716, 85809,   582,  1348, 65307,\n",
      "       13363,  4599, 55984, 50065, 43476,  9551, 78418, 62355, 73491,\n",
      "       91877, 72180, 54375, 10982, 24544, 62883, 10257, 16276, 78672,\n",
      "       68273,  1231, 25380, 53466, 55617, 37166,  2838, 15074, 83028,\n",
      "       66206, 11883,  3885, 73491, 31950])>, <tf.Tensor: shape=(), dtype=int64, numpy=1>)\n"
     ]
    }
   ],
   "source": [
    "for x in train_dataset:\n",
    "    print(x)\n",
    "    break"
   ]
  },
  {
   "cell_type": "code",
   "execution_count": 28,
   "metadata": {},
   "outputs": [],
   "source": [
    "#prepare data\n",
    "BUFFER_SIZE = 10000\n",
    "BATCH_SIZE = 64\n",
    "\n",
    "train_dataset = train_dataset.shuffle(BUFFER_SIZE)\n",
    "\n",
    "train_dataset = train_dataset.padded_batch(BATCH_SIZE, padded_shapes = ([None],()))\n",
    "\n",
    "test_dataset = test_dataset.padded_batch(BATCH_SIZE, padded_shapes = ([None],()))\n"
   ]
  },
  {
   "cell_type": "code",
   "execution_count": 29,
   "metadata": {},
   "outputs": [],
   "source": [
    "#create the model\n",
    "model = tf.keras.Sequential([\n",
    "    tf.keras.layers.Embedding(encoder.vocab_size, 64),\n",
    "    tf.keras.layers.Bidirectional(tf.keras.layers.LSTM(64)),\n",
    "    tf.keras.layers.Dense(64, activation='relu'),\n",
    "    tf.keras.layers.Dense(1)\n",
    "])"
   ]
  },
  {
   "cell_type": "code",
   "execution_count": 30,
   "metadata": {},
   "outputs": [],
   "source": [
    "#compile the model\n",
    "model.compile(loss=tf.keras.losses.BinaryCrossentropy(from_logits=True),\n",
    "              optimizer=tf.keras.optimizers.Adam(1e-4),\n",
    "              metrics=['accuracy'])"
   ]
  },
  {
   "cell_type": "code",
   "execution_count": 31,
   "metadata": {},
   "outputs": [
    {
     "name": "stdout",
     "output_type": "stream",
     "text": [
      "Train for 2189 steps, validate for 30 steps\n",
      "Epoch 1/10\n",
      "2189/2189 [==============================] - 1240s 566ms/step - loss: 0.3453 - accuracy: 0.8655 - val_loss: 0.2675 - val_accuracy: 0.8953\n",
      "Epoch 2/10\n",
      "2189/2189 [==============================] - 1231s 562ms/step - loss: 0.2681 - accuracy: 0.8979 - val_loss: 0.2587 - val_accuracy: 0.9005\n",
      "Epoch 3/10\n",
      "2189/2189 [==============================] - 1231s 562ms/step - loss: 0.2453 - accuracy: 0.9080 - val_loss: 0.2611 - val_accuracy: 0.9021\n",
      "Epoch 4/10\n",
      "2189/2189 [==============================] - 1196s 546ms/step - loss: 0.2285 - accuracy: 0.9152 - val_loss: 0.2680 - val_accuracy: 0.9010\n",
      "Epoch 5/10\n",
      "2189/2189 [==============================] - 1217s 556ms/step - loss: 0.2141 - accuracy: 0.9214 - val_loss: 0.2776 - val_accuracy: 0.9026\n",
      "Epoch 6/10\n",
      "2189/2189 [==============================] - 1229s 561ms/step - loss: 0.2006 - accuracy: 0.9267 - val_loss: 0.2852 - val_accuracy: 0.8995\n",
      "Epoch 7/10\n",
      "2189/2189 [==============================] - 1232s 563ms/step - loss: 0.1892 - accuracy: 0.9315 - val_loss: 0.2997 - val_accuracy: 0.9021\n",
      "Epoch 8/10\n",
      "2189/2189 [==============================] - 1246s 569ms/step - loss: 0.1791 - accuracy: 0.9358 - val_loss: 0.3165 - val_accuracy: 0.8964\n",
      "Epoch 9/10\n",
      "2189/2189 [==============================] - 1243s 568ms/step - loss: 0.1695 - accuracy: 0.9396 - val_loss: 0.3268 - val_accuracy: 0.8964\n",
      "Epoch 10/10\n",
      "2189/2189 [==============================] - 1228s 561ms/step - loss: 0.1611 - accuracy: 0.9433 - val_loss: 0.3371 - val_accuracy: 0.8917\n"
     ]
    }
   ],
   "source": [
    "#train the model\n",
    "history = model.fit(train_dataset, epochs=10,\n",
    "                    validation_data=test_dataset, \n",
    "                    validation_steps=30)"
   ]
  },
  {
   "cell_type": "code",
   "execution_count": 32,
   "metadata": {},
   "outputs": [
    {
     "name": "stdout",
     "output_type": "stream",
     "text": [
      "548/548 [==============================] - 272s 496ms/step - loss: 0.3637 - accuracy: 0.8844\n",
      "Test Loss: 0.36374259206473175\n",
      "Test Accuracy: 0.8843671679496765\n"
     ]
    }
   ],
   "source": [
    "test_loss, test_acc = model.evaluate(test_dataset)\n",
    "\n",
    "print('Test Loss: {}'.format(test_loss))\n",
    "print('Test Accuracy: {}'.format(test_acc))"
   ]
  },
  {
   "cell_type": "code",
   "execution_count": 33,
   "metadata": {},
   "outputs": [],
   "source": [
    "def pad_to_size(vec, size):\n",
    "    zeros = [0] * (size - len(vec))\n",
    "    vec.extend(zeros)\n",
    "    return vec\n",
    "\n",
    "def sample_predict(sample_pred_text, pad):\n",
    "    encoded_sample_pred_text = encoder.encode(sample_pred_text)\n",
    "\n",
    "    if pad:\n",
    "        encoded_sample_pred_text = pad_to_size(encoded_sample_pred_text, 64)\n",
    "    encoded_sample_pred_text = tf.cast(encoded_sample_pred_text, tf.float32)\n",
    "    predictions = model.predict(tf.expand_dims(encoded_sample_pred_text, 0))\n",
    "\n",
    "    return (predictions)"
   ]
  },
  {
   "cell_type": "code",
   "execution_count": null,
   "metadata": {},
   "outputs": [],
   "source": []
  },
  {
   "cell_type": "code",
   "execution_count": 35,
   "metadata": {},
   "outputs": [
    {
     "data": {
      "image/png": "[encoded data removed]",
      "text/plain": [
       "<matplotlib.figure.Figure at 0x7f350babe780>"
      ]
     },
     "metadata": {
      "needs_background": "light"
     },
     "output_type": "display_data"
    }
   ],
   "source": [
    "plot_graphs(history, 'accuracy')"
   ]
  },
  {
   "cell_type": "code",
   "execution_count": 36,
   "metadata": {},
   "outputs": [
    {
     "data": {
      "image/png": "[encoded data removed]",
      "text/plain": [
       "<matplotlib.figure.Figure at 0x7f35082d97b8>"
      ]
     },
     "metadata": {
      "needs_background": "light"
     },
     "output_type": "display_data"
    }
   ],
   "source": [
    "plot_graphs(history, 'loss')"
   ]
  },
  {
   "cell_type": "code",
   "execution_count": 37,
   "metadata": {},
   "outputs": [],
   "source": [
    "#save model\n",
    "model.save_weights(\"./checkpoints/my_checkpoint\")"
   ]
  },
  {
   "cell_type": "code",
   "execution_count": null,
   "metadata": {},
   "outputs": [],
   "source": []
  }
 ],
 "metadata": {
  "kernelspec": {
   "display_name": "Python 3",
   "language": "python",
   "name": "python3"
  },
  "language_info": {
   "codemirror_mode": {
    "name": "ipython",
    "version": 3
   },
   "file_extension": ".py",
   "mimetype": "text/x-python",
   "name": "python",
   "nbconvert_exporter": "python",
   "pygments_lexer": "ipython3",
   "version": "3.6.9"
  }
 },
 "nbformat": 4,
 "nbformat_minor": 2
}
